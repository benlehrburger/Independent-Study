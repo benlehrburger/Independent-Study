{
 "cells": [
  {
   "cell_type": "code",
   "execution_count": null,
   "metadata": {},
   "outputs": [],
   "source": [
    "from chatterbot import ChatBot\n",
    "from chatterbot.trainers import ListTrainer\n",
    "\n",
    "chatbot = ChatBot('dummy')\n",
    "\n",
    "exit_conditions = (\":q\", \"quit\", \"exit\")\n",
    "\n",
    "while True:\n",
    "    query = input(\"> \")\n",
    "    if query in exit_conditions:\n",
    "        break\n",
    "    else:\n",
    "        print(chatbot.get_response(query))"
   ]
  },
  {
   "cell_type": "code",
   "execution_count": null,
   "metadata": {},
   "outputs": [],
   "source": [
    "import pandas as pd\n",
    "\n",
    "df = pd.read_csv('/Users/benlehrburger/Dropbox (Dartmouth College)/Mac/Desktop/chat_messages.csv')\n",
    "df"
   ]
  },
  {
   "cell_type": "code",
   "execution_count": null,
   "metadata": {},
   "outputs": [],
   "source": [
    "non_samples = ['nan', 'Liked “', 'Disliked “', 'Loved “', 'Emphasized “', 'Questioned “', 'Laughed at “']\n",
    "\n",
    "bad_indices = []\n",
    "\n",
    "for index, row in df.iterrows():\n",
    "    \n",
    "    if index % 1000 == 0:\n",
    "        print(index)\n",
    "        \n",
    "    for non_text in non_samples:\n",
    "\n",
    "        if str(row['text']).startswith(non_text):\n",
    "            bad_indices.append(index)\n",
    "\n",
    "print(len(bad_indices))"
   ]
  },
  {
   "cell_type": "code",
   "execution_count": null,
   "metadata": {},
   "outputs": [],
   "source": [
    "clean_df = df.copy()\n",
    "clean_df = clean_df.drop(bad_indices)\n",
    "clean_df"
   ]
  },
  {
   "cell_type": "code",
   "execution_count": null,
   "metadata": {},
   "outputs": [],
   "source": [
    "clean_df = clean_df[clean_df['chat_id'].notna()]\n",
    "clean_df"
   ]
  },
  {
   "cell_type": "code",
   "execution_count": null,
   "metadata": {},
   "outputs": [],
   "source": [
    "# get unique conversations\n",
    "unique_convo_ids = list(set(clean_df['chat_id']))\n",
    "len(unique_convo_ids)"
   ]
  },
  {
   "cell_type": "code",
   "execution_count": null,
   "metadata": {},
   "outputs": [],
   "source": [
    "# convert timestamps to datetime objects\n",
    "clean_df['timestamp'] = clean_df['timestamp'].astype('datetime64')"
   ]
  },
  {
   "cell_type": "code",
   "execution_count": null,
   "metadata": {},
   "outputs": [],
   "source": [
    "# set up data structure\n",
    "# {chat_id: [m1, t], [m2, t2]}\n",
    "pair_tracker = {}\n",
    "final_train_pairs = []\n",
    "\n",
    "for key in unique_convo_ids:\n",
    "    pair_tracker[key] = [[], []]"
   ]
  },
  {
   "cell_type": "code",
   "execution_count": null,
   "metadata": {},
   "outputs": [],
   "source": [
    "import datetime\n",
    "\n",
    "def same_conversation(t1, t2, cutoff=1):\n",
    "    \n",
    "    diff = t2 - t1\n",
    "    \n",
    "    if diff > datetime.timedelta(days=cutoff):\n",
    "        return True\n",
    "    \n",
    "    else:\n",
    "        return False"
   ]
  },
  {
   "cell_type": "code",
   "execution_count": null,
   "metadata": {},
   "outputs": [],
   "source": [
    "chats = []\n",
    "\n",
    "for key in unique_convo_ids:\n",
    "    present_chat = clean_df[clean_df['chat_id'] == key]\n",
    "    chats.append(present_chat['text'].tolist())"
   ]
  },
  {
   "cell_type": "code",
   "execution_count": null,
   "metadata": {},
   "outputs": [],
   "source": [
    "chatbot = ChatBot('text data')\n",
    "trainer = ListTrainer(chatbot)\n",
    "\n",
    "for chat in chats:\n",
    "    print('Now training chat: ', chats.index(chat))\n",
    "    trainer.train(chat)"
   ]
  },
  {
   "cell_type": "code",
   "execution_count": null,
   "metadata": {},
   "outputs": [],
   "source": [
    "exit_conditions = (\":q\", \"quit\", \"exit\")\n",
    "\n",
    "while True:\n",
    "    query = input(\"> \")\n",
    "    if query in exit_conditions:\n",
    "        break\n",
    "    else:\n",
    "        print(chatbot.get_response(query))"
   ]
  },
  {
   "cell_type": "code",
   "execution_count": null,
   "metadata": {},
   "outputs": [],
   "source": [
    "from chatterbot.trainers import ChatterBotCorpusTrainer\n",
    "\n",
    "trainer = ChatterBotCorpusTrainer(chatbot)\n",
    "num_iter = 100\n",
    "\n",
    "while num_iter >= 0:\n",
    "    \n",
    "    print('Training iteration ', 100-num_iter)\n",
    "    \n",
    "    trainer.train(\n",
    "        \"chatterbot.corpus.english\"\n",
    "    )\n",
    "    \n",
    "    num_iter -= 1"
   ]
  },
  {
   "cell_type": "code",
   "execution_count": null,
   "metadata": {},
   "outputs": [],
   "source": [
    "exit_conditions = (\":q\", \"quit\", \"exit\")\n",
    "\n",
    "while True:\n",
    "    query = input(\"> \")\n",
    "    if query in exit_conditions:\n",
    "        break\n",
    "    else:\n",
    "        print(chatbot.get_response(query))"
   ]
  },
  {
   "cell_type": "code",
   "execution_count": null,
   "metadata": {},
   "outputs": [],
   "source": []
  }
 ],
 "metadata": {
  "kernelspec": {
   "display_name": "Python 3",
   "language": "python",
   "name": "python3"
  },
  "language_info": {
   "codemirror_mode": {
    "name": "ipython",
    "version": 3
   },
   "file_extension": ".py",
   "mimetype": "text/x-python",
   "name": "python",
   "nbconvert_exporter": "python",
   "pygments_lexer": "ipython3",
   "version": "3.8.5"
  }
 },
 "nbformat": 4,
 "nbformat_minor": 4
}
